{
 "cells": [
  {
   "cell_type": "markdown",
   "metadata": {},
   "source": [
    "# UCU 2024 - Práctica 1\n",
    "\n",
    "Data Mining - Rest API\n",
    "\n",
    "## Consumo de Datos Históricos Financieros desde una API y Exportación a JSON"
   ]
  },
  {
   "cell_type": "markdown",
   "metadata": {},
   "source": []
  },
  {
   "cell_type": "code",
   "execution_count": 13,
   "metadata": {
    "vscode": {
     "languageId": "plaintext"
    },
    "ExecuteTime": {
     "end_time": "2024-10-22T22:23:51.850061200Z",
     "start_time": "2024-10-22T22:23:51.808782100Z"
    }
   },
   "outputs": [],
   "source": [
    "import requests\n",
    "import json"
   ]
  },
  {
   "cell_type": "code",
   "execution_count": 14,
   "outputs": [],
   "source": [
    "#get para solicitar info a la api\n",
    "def get_bitcoin_data(date):\n",
    " url = f'https://api.coingecko.com/api/v3/coins/bitcoin/history?date={date}'\n",
    " response = requests.get(url)\n",
    " if response.status_code == 200:\n",
    "        data = response.json()\n",
    "        try:\n",
    "            price_usd = data['market_data']['current_price']['usd']\n",
    "            price_eur = data['market_data']['current_price']['eur']\n",
    "            market_cap_usd = data['market_data']['market_cap']['usd']\n",
    "            return {\n",
    "                'data': [\n",
    "                    {'date': date, 'price_usd': price_usd, 'price eur': price_eur, 'market cap usd': market_cap_usd}\n",
    "                ]\n",
    "            }\n",
    "        except KeyError:\n",
    "            print(f'Datos no disponibles para {date}')\n",
    "            return None"
   ],
   "metadata": {
    "collapsed": false,
    "ExecuteTime": {
     "end_time": "2024-10-22T22:23:51.877060300Z",
     "start_time": "2024-10-22T22:23:51.817759300Z"
    }
   }
  },
  {
   "cell_type": "code",
   "execution_count": 15,
   "outputs": [],
   "source": [
    "#lista de fechas\n",
    "dates = ['01-01-2024', '01-07-2024']"
   ],
   "metadata": {
    "collapsed": false,
    "ExecuteTime": {
     "end_time": "2024-10-22T22:23:51.898434500Z",
     "start_time": "2024-10-22T22:23:51.831360300Z"
    }
   }
  },
  {
   "cell_type": "code",
   "execution_count": 16,
   "outputs": [],
   "source": [
    "#lista para almacenar los datos\n",
    "bitcoin_data = []"
   ],
   "metadata": {
    "collapsed": false,
    "ExecuteTime": {
     "end_time": "2024-10-22T22:23:51.898434500Z",
     "start_time": "2024-10-22T22:23:51.840093200Z"
    }
   }
  },
  {
   "cell_type": "code",
   "execution_count": 17,
   "outputs": [],
   "source": [
    "#bucle para datos de cada fecha\n",
    "for date in dates:\n",
    "    data = get_bitcoin_data(date)\n",
    "    if data:\n",
    "        bitcoin_data.append(data)"
   ],
   "metadata": {
    "collapsed": false,
    "ExecuteTime": {
     "end_time": "2024-10-22T22:23:52.134333800Z",
     "start_time": "2024-10-22T22:23:51.849047200Z"
    }
   }
  },
  {
   "cell_type": "code",
   "execution_count": 18,
   "outputs": [
    {
     "name": "stdout",
     "output_type": "stream",
     "text": [
      "Datos guardados en bitcoin_historical_data.json\n"
     ]
    }
   ],
   "source": [
    "# Guardar los datos en un archivo JSON\n",
    "with open('bitcoin_historical_data.json', 'w') as f:\n",
    "    json.dump(bitcoin_data, f, indent=4)\n",
    "print(\"Datos guardados en bitcoin_historical_data.json\")"
   ],
   "metadata": {
    "collapsed": false,
    "ExecuteTime": {
     "end_time": "2024-10-22T22:23:52.143500500Z",
     "start_time": "2024-10-22T22:23:52.137334100Z"
    }
   }
  }
 ],
 "metadata": {
  "language_info": {
   "name": "python"
  },
  "kernelspec": {
   "name": "python3",
   "language": "python",
   "display_name": "Python 3 (ipykernel)"
  }
 },
 "nbformat": 4,
 "nbformat_minor": 2
}
